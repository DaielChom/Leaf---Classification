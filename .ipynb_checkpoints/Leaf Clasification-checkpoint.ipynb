{
 "cells": [
  {
   "cell_type": "markdown",
   "metadata": {
    "collapsed": true
   },
   "source": [
    "<center><h1> CLASIFICACIÓN DE HOJAS </h1></center>\n",
    "\n",
    "En el presente trabajo se planea desarrollar la tarea propuesta en la competencia de Kaggle [Leaf Classification](https://www.kaggle.com/c/leaf-classification). La cual consiste en predecir la especie a la que pertenecen las hojas de arboles dadas.<br/>\n",
    "**Presentado Por:** Daniel Carvajal Patiño <br/>\n",
    "**Presentado A:** Raúl Ramos Pollán\n",
    "# 1. Librerías a usar:"
   ]
  },
  {
   "cell_type": "code",
   "execution_count": 1,
   "metadata": {
    "collapsed": false
   },
   "outputs": [
    {
     "name": "stderr",
     "output_type": "stream",
     "text": [
      "C:\\Program Files\\Anaconda3\\lib\\site-packages\\sklearn\\cross_validation.py:44: DeprecationWarning: This module was deprecated in version 0.18 in favor of the model_selection module into which all the refactored classes and functions are moved. Also note that the interface of the new CV iterators are different from that of this module. This module will be removed in 0.20.\n",
      "  \"This module will be removed in 0.20.\", DeprecationWarning)\n"
     ]
    }
   ],
   "source": [
    "#Importa librerias\n",
    "import pandas as pd\n",
    "import numpy as np\n",
    "import matplotlib.pyplot as plt\n",
    "import random\n",
    "from skimage import io\n",
    "from skimage import transform as tf\n",
    "from sklearn.decomposition import PCA\n",
    "from sklearn.cross_validation import cross_val_score\n",
    "from sklearn.naive_bayes import GaussianNB\n",
    "from sklearn.svm import SVC\n",
    "from sklearn.neighbors import KNeighborsClassifier\n",
    "from sklearn.tree import DecisionTreeClassifier\n",
    "from sklearn.discriminant_analysis import LinearDiscriminantAnalysis\n",
    "\n",
    "%run -i utils/Learn_curve.py\n",
    "%matplotlib inline"
   ]
  },
  {
   "cell_type": "markdown",
   "metadata": {},
   "source": [
    "# 2. Lectura de los datos del Dataset:\n",
    "La competencia  [Leaf Classification](https://www.kaggle.com/c/leaf-classification) cuenta con 3 archivos `.csv` y un `.zip`. El zip contiene imágenes binarias de varias hojas de distintas especies. El primer csv denominado **train** contiene datos de la mayoría de las hojas del dataset, con las cuales se usarán para el entrenamiento de los algoritmos. El segundo archivo csv denominado **test** contiene datos del resto de hojas del dataset, usados para comprobar la efectividad del modelo. El tercero denominado **sample_sumbmission** es el archivo donde se guardaran las respuestas de los métodos y algoritmos a usar.\n",
    "\n",
    "Se leen dichos archivos para observar que más contienen y luego se importan las imagenes."
   ]
  },
  {
   "cell_type": "code",
   "execution_count": 2,
   "metadata": {
    "collapsed": false
   },
   "outputs": [],
   "source": [
    "#Lectura de archivos\n",
    "train = pd.read_csv('train.csv')\n",
    "test = pd.read_csv('test.csv')\n",
    "sample_submsission = pd.read_csv('sample_submission.csv')"
   ]
  },
  {
   "cell_type": "code",
   "execution_count": 3,
   "metadata": {
    "collapsed": true
   },
   "outputs": [],
   "source": [
    "#Funcion ruta -- Auxiliar para ir cambiando la ruta de la imagen --\n",
    "def ruta(num):\n",
    "    return \"images/\"+str(num+1)+\".jpg\"    "
   ]
  },
  {
   "cell_type": "code",
   "execution_count": 4,
   "metadata": {
    "collapsed": false
   },
   "outputs": [],
   "source": [
    "#Lectura de las imagenes\n",
    "set_images = np.array([io.imread(ruta(i)) for i in range(1584)])"
   ]
  },
  {
   "cell_type": "markdown",
   "metadata": {},
   "source": [
    "# 3. Observación de los datos\n",
    "`train` cuenta con 990 filas y 194 columnas, donde cada fila representa una hoja del dataset y cada columna representa la presencia de cierta característica en la hoja. La columna `id` es para asociar los datos con las imágenes, la columna `species` representa la especie a la cual pertenece la hoja."
   ]
  },
  {
   "cell_type": "code",
   "execution_count": 5,
   "metadata": {
    "collapsed": false
   },
   "outputs": [
    {
     "name": "stdout",
     "output_type": "stream",
     "text": [
      "(990, 194)\n"
     ]
    },
    {
     "data": {
      "text/html": [
       "<div>\n",
       "<table border=\"1\" class=\"dataframe\">\n",
       "  <thead>\n",
       "    <tr style=\"text-align: right;\">\n",
       "      <th></th>\n",
       "      <th>id</th>\n",
       "      <th>species</th>\n",
       "      <th>margin1</th>\n",
       "      <th>margin2</th>\n",
       "      <th>margin3</th>\n",
       "      <th>margin4</th>\n",
       "      <th>margin5</th>\n",
       "      <th>margin6</th>\n",
       "      <th>margin7</th>\n",
       "      <th>margin8</th>\n",
       "      <th>...</th>\n",
       "      <th>texture55</th>\n",
       "      <th>texture56</th>\n",
       "      <th>texture57</th>\n",
       "      <th>texture58</th>\n",
       "      <th>texture59</th>\n",
       "      <th>texture60</th>\n",
       "      <th>texture61</th>\n",
       "      <th>texture62</th>\n",
       "      <th>texture63</th>\n",
       "      <th>texture64</th>\n",
       "    </tr>\n",
       "  </thead>\n",
       "  <tbody>\n",
       "    <tr>\n",
       "      <th>0</th>\n",
       "      <td>1</td>\n",
       "      <td>Acer_Opalus</td>\n",
       "      <td>0.007812</td>\n",
       "      <td>0.023438</td>\n",
       "      <td>0.023438</td>\n",
       "      <td>0.003906</td>\n",
       "      <td>0.011719</td>\n",
       "      <td>0.009766</td>\n",
       "      <td>0.027344</td>\n",
       "      <td>0.0</td>\n",
       "      <td>...</td>\n",
       "      <td>0.007812</td>\n",
       "      <td>0.000000</td>\n",
       "      <td>0.002930</td>\n",
       "      <td>0.002930</td>\n",
       "      <td>0.035156</td>\n",
       "      <td>0.0</td>\n",
       "      <td>0.0</td>\n",
       "      <td>0.004883</td>\n",
       "      <td>0.000000</td>\n",
       "      <td>0.025391</td>\n",
       "    </tr>\n",
       "    <tr>\n",
       "      <th>1</th>\n",
       "      <td>2</td>\n",
       "      <td>Pterocarya_Stenoptera</td>\n",
       "      <td>0.005859</td>\n",
       "      <td>0.000000</td>\n",
       "      <td>0.031250</td>\n",
       "      <td>0.015625</td>\n",
       "      <td>0.025391</td>\n",
       "      <td>0.001953</td>\n",
       "      <td>0.019531</td>\n",
       "      <td>0.0</td>\n",
       "      <td>...</td>\n",
       "      <td>0.000977</td>\n",
       "      <td>0.000000</td>\n",
       "      <td>0.000000</td>\n",
       "      <td>0.000977</td>\n",
       "      <td>0.023438</td>\n",
       "      <td>0.0</td>\n",
       "      <td>0.0</td>\n",
       "      <td>0.000977</td>\n",
       "      <td>0.039062</td>\n",
       "      <td>0.022461</td>\n",
       "    </tr>\n",
       "    <tr>\n",
       "      <th>2</th>\n",
       "      <td>3</td>\n",
       "      <td>Quercus_Hartwissiana</td>\n",
       "      <td>0.005859</td>\n",
       "      <td>0.009766</td>\n",
       "      <td>0.019531</td>\n",
       "      <td>0.007812</td>\n",
       "      <td>0.003906</td>\n",
       "      <td>0.005859</td>\n",
       "      <td>0.068359</td>\n",
       "      <td>0.0</td>\n",
       "      <td>...</td>\n",
       "      <td>0.154300</td>\n",
       "      <td>0.000000</td>\n",
       "      <td>0.005859</td>\n",
       "      <td>0.000977</td>\n",
       "      <td>0.007812</td>\n",
       "      <td>0.0</td>\n",
       "      <td>0.0</td>\n",
       "      <td>0.000000</td>\n",
       "      <td>0.020508</td>\n",
       "      <td>0.002930</td>\n",
       "    </tr>\n",
       "    <tr>\n",
       "      <th>3</th>\n",
       "      <td>5</td>\n",
       "      <td>Tilia_Tomentosa</td>\n",
       "      <td>0.000000</td>\n",
       "      <td>0.003906</td>\n",
       "      <td>0.023438</td>\n",
       "      <td>0.005859</td>\n",
       "      <td>0.021484</td>\n",
       "      <td>0.019531</td>\n",
       "      <td>0.023438</td>\n",
       "      <td>0.0</td>\n",
       "      <td>...</td>\n",
       "      <td>0.000000</td>\n",
       "      <td>0.000977</td>\n",
       "      <td>0.000000</td>\n",
       "      <td>0.000000</td>\n",
       "      <td>0.020508</td>\n",
       "      <td>0.0</td>\n",
       "      <td>0.0</td>\n",
       "      <td>0.017578</td>\n",
       "      <td>0.000000</td>\n",
       "      <td>0.047852</td>\n",
       "    </tr>\n",
       "    <tr>\n",
       "      <th>4</th>\n",
       "      <td>6</td>\n",
       "      <td>Quercus_Variabilis</td>\n",
       "      <td>0.005859</td>\n",
       "      <td>0.003906</td>\n",
       "      <td>0.048828</td>\n",
       "      <td>0.009766</td>\n",
       "      <td>0.013672</td>\n",
       "      <td>0.015625</td>\n",
       "      <td>0.005859</td>\n",
       "      <td>0.0</td>\n",
       "      <td>...</td>\n",
       "      <td>0.096680</td>\n",
       "      <td>0.000000</td>\n",
       "      <td>0.021484</td>\n",
       "      <td>0.000000</td>\n",
       "      <td>0.000000</td>\n",
       "      <td>0.0</td>\n",
       "      <td>0.0</td>\n",
       "      <td>0.000000</td>\n",
       "      <td>0.000000</td>\n",
       "      <td>0.031250</td>\n",
       "    </tr>\n",
       "  </tbody>\n",
       "</table>\n",
       "<p>5 rows × 194 columns</p>\n",
       "</div>"
      ],
      "text/plain": [
       "   id                species   margin1   margin2   margin3   margin4  \\\n",
       "0   1            Acer_Opalus  0.007812  0.023438  0.023438  0.003906   \n",
       "1   2  Pterocarya_Stenoptera  0.005859  0.000000  0.031250  0.015625   \n",
       "2   3   Quercus_Hartwissiana  0.005859  0.009766  0.019531  0.007812   \n",
       "3   5        Tilia_Tomentosa  0.000000  0.003906  0.023438  0.005859   \n",
       "4   6     Quercus_Variabilis  0.005859  0.003906  0.048828  0.009766   \n",
       "\n",
       "    margin5   margin6   margin7  margin8    ...      texture55  texture56  \\\n",
       "0  0.011719  0.009766  0.027344      0.0    ...       0.007812   0.000000   \n",
       "1  0.025391  0.001953  0.019531      0.0    ...       0.000977   0.000000   \n",
       "2  0.003906  0.005859  0.068359      0.0    ...       0.154300   0.000000   \n",
       "3  0.021484  0.019531  0.023438      0.0    ...       0.000000   0.000977   \n",
       "4  0.013672  0.015625  0.005859      0.0    ...       0.096680   0.000000   \n",
       "\n",
       "   texture57  texture58  texture59  texture60  texture61  texture62  \\\n",
       "0   0.002930   0.002930   0.035156        0.0        0.0   0.004883   \n",
       "1   0.000000   0.000977   0.023438        0.0        0.0   0.000977   \n",
       "2   0.005859   0.000977   0.007812        0.0        0.0   0.000000   \n",
       "3   0.000000   0.000000   0.020508        0.0        0.0   0.017578   \n",
       "4   0.021484   0.000000   0.000000        0.0        0.0   0.000000   \n",
       "\n",
       "   texture63  texture64  \n",
       "0   0.000000   0.025391  \n",
       "1   0.039062   0.022461  \n",
       "2   0.020508   0.002930  \n",
       "3   0.000000   0.047852  \n",
       "4   0.000000   0.031250  \n",
       "\n",
       "[5 rows x 194 columns]"
      ]
     },
     "execution_count": 5,
     "metadata": {},
     "output_type": "execute_result"
    }
   ],
   "source": [
    "#Exploracion de train\n",
    "print(train.shape)\n",
    "train.head()"
   ]
  },
  {
   "cell_type": "markdown",
   "metadata": {},
   "source": [
    "En `test` las filas también representan la hojas del dataset y las columnas representan las caracteríticas de la hoja, cabe resaltar que las hojas de test no cuentan con la columna `species`, pues esa es la tarea a realizar, identificar a qué especie pertenecen las hojas."
   ]
  },
  {
   "cell_type": "code",
   "execution_count": 6,
   "metadata": {
    "collapsed": false
   },
   "outputs": [
    {
     "name": "stdout",
     "output_type": "stream",
     "text": [
      "(594, 193)\n"
     ]
    },
    {
     "data": {
      "text/html": [
       "<div>\n",
       "<table border=\"1\" class=\"dataframe\">\n",
       "  <thead>\n",
       "    <tr style=\"text-align: right;\">\n",
       "      <th></th>\n",
       "      <th>id</th>\n",
       "      <th>margin1</th>\n",
       "      <th>margin2</th>\n",
       "      <th>margin3</th>\n",
       "      <th>margin4</th>\n",
       "      <th>margin5</th>\n",
       "      <th>margin6</th>\n",
       "      <th>margin7</th>\n",
       "      <th>margin8</th>\n",
       "      <th>margin9</th>\n",
       "      <th>...</th>\n",
       "      <th>texture55</th>\n",
       "      <th>texture56</th>\n",
       "      <th>texture57</th>\n",
       "      <th>texture58</th>\n",
       "      <th>texture59</th>\n",
       "      <th>texture60</th>\n",
       "      <th>texture61</th>\n",
       "      <th>texture62</th>\n",
       "      <th>texture63</th>\n",
       "      <th>texture64</th>\n",
       "    </tr>\n",
       "  </thead>\n",
       "  <tbody>\n",
       "    <tr>\n",
       "      <th>0</th>\n",
       "      <td>4</td>\n",
       "      <td>0.019531</td>\n",
       "      <td>0.009766</td>\n",
       "      <td>0.078125</td>\n",
       "      <td>0.011719</td>\n",
       "      <td>0.003906</td>\n",
       "      <td>0.015625</td>\n",
       "      <td>0.005859</td>\n",
       "      <td>0.0</td>\n",
       "      <td>0.005859</td>\n",
       "      <td>...</td>\n",
       "      <td>0.006836</td>\n",
       "      <td>0.000000</td>\n",
       "      <td>0.015625</td>\n",
       "      <td>0.000977</td>\n",
       "      <td>0.015625</td>\n",
       "      <td>0.0</td>\n",
       "      <td>0.0</td>\n",
       "      <td>0.000000</td>\n",
       "      <td>0.003906</td>\n",
       "      <td>0.053711</td>\n",
       "    </tr>\n",
       "    <tr>\n",
       "      <th>1</th>\n",
       "      <td>7</td>\n",
       "      <td>0.007812</td>\n",
       "      <td>0.005859</td>\n",
       "      <td>0.064453</td>\n",
       "      <td>0.009766</td>\n",
       "      <td>0.003906</td>\n",
       "      <td>0.013672</td>\n",
       "      <td>0.007812</td>\n",
       "      <td>0.0</td>\n",
       "      <td>0.033203</td>\n",
       "      <td>...</td>\n",
       "      <td>0.000000</td>\n",
       "      <td>0.000000</td>\n",
       "      <td>0.006836</td>\n",
       "      <td>0.001953</td>\n",
       "      <td>0.013672</td>\n",
       "      <td>0.0</td>\n",
       "      <td>0.0</td>\n",
       "      <td>0.000977</td>\n",
       "      <td>0.037109</td>\n",
       "      <td>0.044922</td>\n",
       "    </tr>\n",
       "    <tr>\n",
       "      <th>2</th>\n",
       "      <td>9</td>\n",
       "      <td>0.000000</td>\n",
       "      <td>0.000000</td>\n",
       "      <td>0.001953</td>\n",
       "      <td>0.021484</td>\n",
       "      <td>0.041016</td>\n",
       "      <td>0.000000</td>\n",
       "      <td>0.023438</td>\n",
       "      <td>0.0</td>\n",
       "      <td>0.011719</td>\n",
       "      <td>...</td>\n",
       "      <td>0.128910</td>\n",
       "      <td>0.000000</td>\n",
       "      <td>0.000977</td>\n",
       "      <td>0.000000</td>\n",
       "      <td>0.000000</td>\n",
       "      <td>0.0</td>\n",
       "      <td>0.0</td>\n",
       "      <td>0.015625</td>\n",
       "      <td>0.000000</td>\n",
       "      <td>0.000000</td>\n",
       "    </tr>\n",
       "    <tr>\n",
       "      <th>3</th>\n",
       "      <td>12</td>\n",
       "      <td>0.000000</td>\n",
       "      <td>0.000000</td>\n",
       "      <td>0.009766</td>\n",
       "      <td>0.011719</td>\n",
       "      <td>0.017578</td>\n",
       "      <td>0.000000</td>\n",
       "      <td>0.003906</td>\n",
       "      <td>0.0</td>\n",
       "      <td>0.003906</td>\n",
       "      <td>...</td>\n",
       "      <td>0.012695</td>\n",
       "      <td>0.015625</td>\n",
       "      <td>0.002930</td>\n",
       "      <td>0.036133</td>\n",
       "      <td>0.013672</td>\n",
       "      <td>0.0</td>\n",
       "      <td>0.0</td>\n",
       "      <td>0.089844</td>\n",
       "      <td>0.000000</td>\n",
       "      <td>0.008789</td>\n",
       "    </tr>\n",
       "    <tr>\n",
       "      <th>4</th>\n",
       "      <td>13</td>\n",
       "      <td>0.001953</td>\n",
       "      <td>0.000000</td>\n",
       "      <td>0.015625</td>\n",
       "      <td>0.009766</td>\n",
       "      <td>0.039062</td>\n",
       "      <td>0.000000</td>\n",
       "      <td>0.009766</td>\n",
       "      <td>0.0</td>\n",
       "      <td>0.005859</td>\n",
       "      <td>...</td>\n",
       "      <td>0.000000</td>\n",
       "      <td>0.042969</td>\n",
       "      <td>0.016602</td>\n",
       "      <td>0.010742</td>\n",
       "      <td>0.041016</td>\n",
       "      <td>0.0</td>\n",
       "      <td>0.0</td>\n",
       "      <td>0.007812</td>\n",
       "      <td>0.009766</td>\n",
       "      <td>0.007812</td>\n",
       "    </tr>\n",
       "  </tbody>\n",
       "</table>\n",
       "<p>5 rows × 193 columns</p>\n",
       "</div>"
      ],
      "text/plain": [
       "   id   margin1   margin2   margin3   margin4   margin5   margin6   margin7  \\\n",
       "0   4  0.019531  0.009766  0.078125  0.011719  0.003906  0.015625  0.005859   \n",
       "1   7  0.007812  0.005859  0.064453  0.009766  0.003906  0.013672  0.007812   \n",
       "2   9  0.000000  0.000000  0.001953  0.021484  0.041016  0.000000  0.023438   \n",
       "3  12  0.000000  0.000000  0.009766  0.011719  0.017578  0.000000  0.003906   \n",
       "4  13  0.001953  0.000000  0.015625  0.009766  0.039062  0.000000  0.009766   \n",
       "\n",
       "   margin8   margin9    ...      texture55  texture56  texture57  texture58  \\\n",
       "0      0.0  0.005859    ...       0.006836   0.000000   0.015625   0.000977   \n",
       "1      0.0  0.033203    ...       0.000000   0.000000   0.006836   0.001953   \n",
       "2      0.0  0.011719    ...       0.128910   0.000000   0.000977   0.000000   \n",
       "3      0.0  0.003906    ...       0.012695   0.015625   0.002930   0.036133   \n",
       "4      0.0  0.005859    ...       0.000000   0.042969   0.016602   0.010742   \n",
       "\n",
       "   texture59  texture60  texture61  texture62  texture63  texture64  \n",
       "0   0.015625        0.0        0.0   0.000000   0.003906   0.053711  \n",
       "1   0.013672        0.0        0.0   0.000977   0.037109   0.044922  \n",
       "2   0.000000        0.0        0.0   0.015625   0.000000   0.000000  \n",
       "3   0.013672        0.0        0.0   0.089844   0.000000   0.008789  \n",
       "4   0.041016        0.0        0.0   0.007812   0.009766   0.007812  \n",
       "\n",
       "[5 rows x 193 columns]"
      ]
     },
     "execution_count": 6,
     "metadata": {},
     "output_type": "execute_result"
    }
   ],
   "source": [
    "#Exploracion de test\n",
    "print(test.shape)\n",
    "test.head()"
   ]
  },
  {
   "cell_type": "markdown",
   "metadata": {},
   "source": [
    "sample_submission es el formato de submission de la competencia"
   ]
  },
  {
   "cell_type": "code",
   "execution_count": 7,
   "metadata": {
    "collapsed": false
   },
   "outputs": [
    {
     "data": {
      "text/html": [
       "<div>\n",
       "<table border=\"1\" class=\"dataframe\">\n",
       "  <thead>\n",
       "    <tr style=\"text-align: right;\">\n",
       "      <th></th>\n",
       "      <th>id</th>\n",
       "      <th>Acer_Capillipes</th>\n",
       "      <th>Acer_Circinatum</th>\n",
       "      <th>Acer_Mono</th>\n",
       "      <th>Acer_Opalus</th>\n",
       "      <th>Acer_Palmatum</th>\n",
       "      <th>Acer_Pictum</th>\n",
       "      <th>Acer_Platanoids</th>\n",
       "      <th>Acer_Rubrum</th>\n",
       "      <th>Acer_Rufinerve</th>\n",
       "      <th>...</th>\n",
       "      <th>Salix_Fragilis</th>\n",
       "      <th>Salix_Intergra</th>\n",
       "      <th>Sorbus_Aria</th>\n",
       "      <th>Tilia_Oliveri</th>\n",
       "      <th>Tilia_Platyphyllos</th>\n",
       "      <th>Tilia_Tomentosa</th>\n",
       "      <th>Ulmus_Bergmanniana</th>\n",
       "      <th>Viburnum_Tinus</th>\n",
       "      <th>Viburnum_x_Rhytidophylloides</th>\n",
       "      <th>Zelkova_Serrata</th>\n",
       "    </tr>\n",
       "  </thead>\n",
       "  <tbody>\n",
       "    <tr>\n",
       "      <th>0</th>\n",
       "      <td>4</td>\n",
       "      <td>0.010101</td>\n",
       "      <td>0.010101</td>\n",
       "      <td>0.010101</td>\n",
       "      <td>0.010101</td>\n",
       "      <td>0.010101</td>\n",
       "      <td>0.010101</td>\n",
       "      <td>0.010101</td>\n",
       "      <td>0.010101</td>\n",
       "      <td>0.010101</td>\n",
       "      <td>...</td>\n",
       "      <td>0.010101</td>\n",
       "      <td>0.010101</td>\n",
       "      <td>0.010101</td>\n",
       "      <td>0.010101</td>\n",
       "      <td>0.010101</td>\n",
       "      <td>0.010101</td>\n",
       "      <td>0.010101</td>\n",
       "      <td>0.010101</td>\n",
       "      <td>0.010101</td>\n",
       "      <td>0.010101</td>\n",
       "    </tr>\n",
       "    <tr>\n",
       "      <th>1</th>\n",
       "      <td>7</td>\n",
       "      <td>0.010101</td>\n",
       "      <td>0.010101</td>\n",
       "      <td>0.010101</td>\n",
       "      <td>0.010101</td>\n",
       "      <td>0.010101</td>\n",
       "      <td>0.010101</td>\n",
       "      <td>0.010101</td>\n",
       "      <td>0.010101</td>\n",
       "      <td>0.010101</td>\n",
       "      <td>...</td>\n",
       "      <td>0.010101</td>\n",
       "      <td>0.010101</td>\n",
       "      <td>0.010101</td>\n",
       "      <td>0.010101</td>\n",
       "      <td>0.010101</td>\n",
       "      <td>0.010101</td>\n",
       "      <td>0.010101</td>\n",
       "      <td>0.010101</td>\n",
       "      <td>0.010101</td>\n",
       "      <td>0.010101</td>\n",
       "    </tr>\n",
       "    <tr>\n",
       "      <th>2</th>\n",
       "      <td>9</td>\n",
       "      <td>0.010101</td>\n",
       "      <td>0.010101</td>\n",
       "      <td>0.010101</td>\n",
       "      <td>0.010101</td>\n",
       "      <td>0.010101</td>\n",
       "      <td>0.010101</td>\n",
       "      <td>0.010101</td>\n",
       "      <td>0.010101</td>\n",
       "      <td>0.010101</td>\n",
       "      <td>...</td>\n",
       "      <td>0.010101</td>\n",
       "      <td>0.010101</td>\n",
       "      <td>0.010101</td>\n",
       "      <td>0.010101</td>\n",
       "      <td>0.010101</td>\n",
       "      <td>0.010101</td>\n",
       "      <td>0.010101</td>\n",
       "      <td>0.010101</td>\n",
       "      <td>0.010101</td>\n",
       "      <td>0.010101</td>\n",
       "    </tr>\n",
       "    <tr>\n",
       "      <th>3</th>\n",
       "      <td>12</td>\n",
       "      <td>0.010101</td>\n",
       "      <td>0.010101</td>\n",
       "      <td>0.010101</td>\n",
       "      <td>0.010101</td>\n",
       "      <td>0.010101</td>\n",
       "      <td>0.010101</td>\n",
       "      <td>0.010101</td>\n",
       "      <td>0.010101</td>\n",
       "      <td>0.010101</td>\n",
       "      <td>...</td>\n",
       "      <td>0.010101</td>\n",
       "      <td>0.010101</td>\n",
       "      <td>0.010101</td>\n",
       "      <td>0.010101</td>\n",
       "      <td>0.010101</td>\n",
       "      <td>0.010101</td>\n",
       "      <td>0.010101</td>\n",
       "      <td>0.010101</td>\n",
       "      <td>0.010101</td>\n",
       "      <td>0.010101</td>\n",
       "    </tr>\n",
       "    <tr>\n",
       "      <th>4</th>\n",
       "      <td>13</td>\n",
       "      <td>0.010101</td>\n",
       "      <td>0.010101</td>\n",
       "      <td>0.010101</td>\n",
       "      <td>0.010101</td>\n",
       "      <td>0.010101</td>\n",
       "      <td>0.010101</td>\n",
       "      <td>0.010101</td>\n",
       "      <td>0.010101</td>\n",
       "      <td>0.010101</td>\n",
       "      <td>...</td>\n",
       "      <td>0.010101</td>\n",
       "      <td>0.010101</td>\n",
       "      <td>0.010101</td>\n",
       "      <td>0.010101</td>\n",
       "      <td>0.010101</td>\n",
       "      <td>0.010101</td>\n",
       "      <td>0.010101</td>\n",
       "      <td>0.010101</td>\n",
       "      <td>0.010101</td>\n",
       "      <td>0.010101</td>\n",
       "    </tr>\n",
       "  </tbody>\n",
       "</table>\n",
       "<p>5 rows × 100 columns</p>\n",
       "</div>"
      ],
      "text/plain": [
       "   id  Acer_Capillipes  Acer_Circinatum  Acer_Mono  Acer_Opalus  \\\n",
       "0   4         0.010101         0.010101   0.010101     0.010101   \n",
       "1   7         0.010101         0.010101   0.010101     0.010101   \n",
       "2   9         0.010101         0.010101   0.010101     0.010101   \n",
       "3  12         0.010101         0.010101   0.010101     0.010101   \n",
       "4  13         0.010101         0.010101   0.010101     0.010101   \n",
       "\n",
       "   Acer_Palmatum  Acer_Pictum  Acer_Platanoids  Acer_Rubrum  Acer_Rufinerve  \\\n",
       "0       0.010101     0.010101         0.010101     0.010101        0.010101   \n",
       "1       0.010101     0.010101         0.010101     0.010101        0.010101   \n",
       "2       0.010101     0.010101         0.010101     0.010101        0.010101   \n",
       "3       0.010101     0.010101         0.010101     0.010101        0.010101   \n",
       "4       0.010101     0.010101         0.010101     0.010101        0.010101   \n",
       "\n",
       "        ...         Salix_Fragilis  Salix_Intergra  Sorbus_Aria  \\\n",
       "0       ...               0.010101        0.010101     0.010101   \n",
       "1       ...               0.010101        0.010101     0.010101   \n",
       "2       ...               0.010101        0.010101     0.010101   \n",
       "3       ...               0.010101        0.010101     0.010101   \n",
       "4       ...               0.010101        0.010101     0.010101   \n",
       "\n",
       "   Tilia_Oliveri  Tilia_Platyphyllos  Tilia_Tomentosa  Ulmus_Bergmanniana  \\\n",
       "0       0.010101            0.010101         0.010101            0.010101   \n",
       "1       0.010101            0.010101         0.010101            0.010101   \n",
       "2       0.010101            0.010101         0.010101            0.010101   \n",
       "3       0.010101            0.010101         0.010101            0.010101   \n",
       "4       0.010101            0.010101         0.010101            0.010101   \n",
       "\n",
       "   Viburnum_Tinus  Viburnum_x_Rhytidophylloides  Zelkova_Serrata  \n",
       "0        0.010101                      0.010101         0.010101  \n",
       "1        0.010101                      0.010101         0.010101  \n",
       "2        0.010101                      0.010101         0.010101  \n",
       "3        0.010101                      0.010101         0.010101  \n",
       "4        0.010101                      0.010101         0.010101  \n",
       "\n",
       "[5 rows x 100 columns]"
      ]
     },
     "execution_count": 7,
     "metadata": {},
     "output_type": "execute_result"
    }
   ],
   "source": [
    "#Exploracion de sample_submission\n",
    "sample_submsission.head()"
   ]
  },
  {
   "cell_type": "markdown",
   "metadata": {},
   "source": [
    "Las imágenes al parecer son binarias y representan el contorno de las hojas, cabe indicar que el nombre de la imagen está asociado con la columna `id` tanto de train como de test."
   ]
  },
  {
   "cell_type": "code",
   "execution_count": 8,
   "metadata": {
    "collapsed": false
   },
   "outputs": [
    {
     "data": {
      "text/plain": [
       "<matplotlib.image.AxesImage at 0x268e821b160>"
      ]
     },
     "execution_count": 8,
     "metadata": {},
     "output_type": "execute_result"
    },
    {
     "data": {
      "image/png": "[encoded data removed]",
      "text/plain": [
       "<matplotlib.figure.Figure at 0x268e8434588>"
      ]
     },
     "metadata": {},
     "output_type": "display_data"
    }
   ],
   "source": [
    "#Exploracion conjunto de imagenes\n",
    "plt.imshow(set_images[random.randint(1, 1584)],cmap = plt.cm.Greys_r)"
   ]
  },
  {
   "cell_type": "code",
   "execution_count": 9,
   "metadata": {
    "collapsed": false
   },
   "outputs": [
    {
     "data": {
      "image/png": "[encoded data removed]",
      "text/plain": [
       "<matplotlib.figure.Figure at 0x268e81a8e48>"
      ]
     },
     "metadata": {},
     "output_type": "display_data"
    }
   ],
   "source": [
    "fig = plt.figure(figsize=(10,6))\n",
    "for i in range(50):\n",
    "    ax=fig.add_subplot(5,10,i+1)\n",
    "    plt.imshow(set_images[i], cmap = plt.cm.Greys_r)\n",
    "    ax.set_title(\"leaf id:\" + str(i))\n",
    "    ax.set_xticklabels([])\n",
    "    ax.set_yticklabels([])"
   ]
  },
  {
   "cell_type": "markdown",
   "metadata": {},
   "source": [
    "Al parecer las imágenes son binarias, aunque para comprobar esto se puede revisar el histograma de la imagen."
   ]
  },
  {
   "cell_type": "code",
   "execution_count": 10,
   "metadata": {
    "collapsed": false
   },
   "outputs": [
    {
     "name": "stdout",
     "output_type": "stream",
     "text": [
      "Cantidad de 0s: 114191.0\n",
      "Cantidad de 1s: 264.0\n",
      "Cantidad de 255s: 131187.0\n",
      "Suma total: 245642.0\n",
      "Cantidad de pixeles: 245642\n"
     ]
    },
    {
     "data": {
      "image/png": "[encoded data removed]",
      "text/plain": [
       "<matplotlib.figure.Figure at 0x2689596a2e8>"
      ]
     },
     "metadata": {},
     "output_type": "display_data"
    }
   ],
   "source": [
    "print(\"Cantidad de 0s:\",plt.hist(set_images[0].flatten(), bins = 255)[0][0])\n",
    "print(\"Cantidad de 1s:\",plt.hist(set_images[0].flatten(), bins = 255)[0][1])\n",
    "print(\"Cantidad de 255s:\",plt.hist(set_images[0].flatten(), bins = 255)[0][254])\n",
    "print(\"Suma total:\", np.sum(plt.hist(set_images[0].flatten(), bins = 255)[0]))\n",
    "print(\"Cantidad de pixeles:\", set_images[0].shape[0]*set_images[0].shape[1])"
   ]
  },
  {
   "cell_type": "markdown",
   "metadata": {},
   "source": [
    "Se observa que la imagen no es binaria, aunque la relación entre los 0, 255 y los 1 es muy grande, puede que esto afecte o no a la hora de clasificar.\n",
    "# 4. Selección de datos para el entrenamiento\n",
    "## 4.1 Datos\n",
    "Se extrae los valores para el entrenamiento, separando la columna de especies y la de id."
   ]
  },
  {
   "cell_type": "code",
   "execution_count": 5,
   "metadata": {
    "collapsed": false
   },
   "outputs": [],
   "source": [
    "#Extraccion de las clases\n",
    "clases = np.unique(train['species'].values)\n",
    "\n",
    "#Auxiliares para obtener y_train en base a clases\n",
    "clases_num = np.array(range(99))\n",
    "aux_y = np.array(train['species'].values)\n",
    "\n",
    "data_y_train = np.ones(len(aux_y))\n",
    "data_X_train = train.drop(['id', 'species'], axis = 1).values\n",
    "data_X_test = test.drop(['id'], axis=1)"
   ]
  },
  {
   "cell_type": "code",
   "execution_count": 6,
   "metadata": {
    "collapsed": false
   },
   "outputs": [],
   "source": [
    "#Convierte los string de las clases a entero y los guarda en y_train\n",
    "for i,n in enumerate(aux_y):\n",
    "    for j,l in enumerate(clases):\n",
    "        if (n == l):\n",
    "            data_y_train[i] = j"
   ]
  },
  {
   "cell_type": "code",
   "execution_count": 7,
   "metadata": {
    "collapsed": false
   },
   "outputs": [
    {
     "data": {
      "text/plain": [
       "((990,), (990, 192))"
      ]
     },
     "execution_count": 7,
     "metadata": {},
     "output_type": "execute_result"
    }
   ],
   "source": [
    "data_y_train.shape, data_X_train.shape"
   ]
  },
  {
   "cell_type": "markdown",
   "metadata": {},
   "source": [
    "Debido a que los datos de test que brinda la competencia no vienen etiquetados, no se pueden hacer verificaciones locales sobre el entrenamiento de los algoritmos, por ende las datos de train se dividen en un nuevo train y test, el número 700 es escogido sin ningún criterio específico, más adelante se probaran otras técnicas como cross_validation para un mejor uso de selección del train y test."
   ]
  },
  {
   "cell_type": "code",
   "execution_count": 8,
   "metadata": {
    "collapsed": false
   },
   "outputs": [],
   "source": [
    "#seleccion del train y test\n",
    "X_train = data_X_train[:700]\n",
    "X_test = data_X_train[700:]\n",
    "y_train = data_y_train[:700]\n",
    "y_test = data_y_train[700:]"
   ]
  },
  {
   "cell_type": "markdown",
   "metadata": {},
   "source": [
    "## 4.2 Imágenes\n",
    "Se realiza la misma división de datos para entrenamiento y test con las imágenes, es decir 700 para train y el resto para test. Debido a que las imágenes están completas, es decir las 1800 están seguidas, hay que seleccionar las de train y test usando la relación entre las imágenes y los datos la cual es la columna `id` de las tablas."
   ]
  },
  {
   "cell_type": "code",
   "execution_count": 9,
   "metadata": {
    "collapsed": false
   },
   "outputs": [],
   "source": [
    "id_train = train['id'].values\n",
    "id_test = test['id'].values"
   ]
  },
  {
   "cell_type": "code",
   "execution_count": 10,
   "metadata": {
    "collapsed": false
   },
   "outputs": [],
   "source": [
    "aux_img = np.array([set_images[i-1] for i in id_train])\n",
    "X_train_img = aux_img[:700]\n",
    "X_test_img = aux_img[700:]"
   ]
  },
  {
   "cell_type": "code",
   "execution_count": 11,
   "metadata": {
    "collapsed": true
   },
   "outputs": [],
   "source": [
    "test_img = np.array([set_images[i-1] for i in id_test])"
   ]
  },
  {
   "cell_type": "markdown",
   "metadata": {},
   "source": [
    "## 4.3 Histograma\n",
    "En la clasificación de imágenes no necesariamente se requieren usar las imágenes, la clasificación puede realizarse usando descriptores de las imágenes, y los histogramas son considerados descriptores. Por ende se calculan los histogramas para usarlos más adelante en un proceso de entrenamiento."
   ]
  },
  {
   "cell_type": "code",
   "execution_count": null,
   "metadata": {
    "collapsed": false
   },
   "outputs": [],
   "source": [
    "hit_img = [plt.hist(i.flatten(), bins = 255)[0] for i in aux_img]"
   ]
  },
  {
   "cell_type": "code",
   "execution_count": null,
   "metadata": {
    "collapsed": false
   },
   "outputs": [],
   "source": [
    "hit_img_train = [plt.hist(i.flatten(), bins = 255)[0] for i in X_train_img]"
   ]
  },
  {
   "cell_type": "code",
   "execution_count": null,
   "metadata": {
    "collapsed": true
   },
   "outputs": [],
   "source": [
    "hit_img_test = [plt.hist(i.flatten(), bins = 255)[0] for i in X_test_img]"
   ]
  },
  {
   "cell_type": "markdown",
   "metadata": {},
   "source": [
    "**Nota:** Por cuestiones de hardware no se usarán los histogramas. El proceso es demasiado pesado para la maquina con la que estoy realizando el trabajo."
   ]
  },
  {
   "cell_type": "markdown",
   "metadata": {},
   "source": [
    "## 4.4 Redimension"
   ]
  },
  {
   "cell_type": "markdown",
   "metadata": {},
   "source": [
    "Si se desea las imágenes pueden ser usadas en la clasificación, pero los algoritmos necesitan que los datos que se les entregan tengan las mismas dimensiones, por ende si se quieren usar las imágenes hay que redimensionarlas."
   ]
  },
  {
   "cell_type": "code",
   "execution_count": 12,
   "metadata": {
    "collapsed": true
   },
   "outputs": [],
   "source": [
    "resize_img = []\n",
    "resize_img_train = []\n",
    "resize_img_test = []\n",
    "resize_test = []"
   ]
  },
  {
   "cell_type": "code",
   "execution_count": 13,
   "metadata": {
    "collapsed": false
   },
   "outputs": [],
   "source": [
    "for i in aux_img:\n",
    "    resize_img.append(tf.resize(i,(300,300)).flatten())"
   ]
  },
  {
   "cell_type": "code",
   "execution_count": 14,
   "metadata": {
    "collapsed": true
   },
   "outputs": [],
   "source": [
    "for i in test_img:\n",
    "    resize_test.append(tf.resize(i,(300,300)).flatten())"
   ]
  },
  {
   "cell_type": "code",
   "execution_count": 15,
   "metadata": {
    "collapsed": true
   },
   "outputs": [],
   "source": [
    "for i in X_train_img:\n",
    "    resize_img_train.append(tf.resize(i,(300,300)).flatten())\n",
    "    \n",
    "for i in X_test_img:\n",
    "    resize_img_test.append(tf.resize(i,(300,300)).flatten())"
   ]
  },
  {
   "cell_type": "code",
   "execution_count": 16,
   "metadata": {
    "collapsed": false
   },
   "outputs": [
    {
     "data": {
      "text/plain": [
       "((990, 90000), (990,))"
      ]
     },
     "execution_count": 16,
     "metadata": {},
     "output_type": "execute_result"
    }
   ],
   "source": [
    "np.array(resize_img).shape, data_y_train.shape"
   ]
  },
  {
   "cell_type": "markdown",
   "metadata": {},
   "source": [
    "## 4.5 PCA"
   ]
  },
  {
   "cell_type": "markdown",
   "metadata": {},
   "source": [
    "Otra forma para la clasificación de imágenes es usar componentes de las imágenes o los datos, dichos componentes se pueden obtener usando el algoritmo PCA."
   ]
  },
  {
   "cell_type": "markdown",
   "metadata": {},
   "source": [
    "### 4.5.1 PCA de los datos."
   ]
  },
  {
   "cell_type": "code",
   "execution_count": 17,
   "metadata": {
    "collapsed": false
   },
   "outputs": [],
   "source": [
    "pca = PCA(n_components=60)\n",
    "Xp = pca.fit_transform(data_X_train)"
   ]
  },
  {
   "cell_type": "markdown",
   "metadata": {},
   "source": [
    "### 4.5.2 PCA de las imágenes"
   ]
  },
  {
   "cell_type": "code",
   "execution_count": 18,
   "metadata": {
    "collapsed": false
   },
   "outputs": [],
   "source": [
    "pca = PCA(n_components=60)\n",
    "Xp_img = pca.fit_transform(resize_img)"
   ]
  },
  {
   "cell_type": "markdown",
   "metadata": {},
   "source": [
    "## 4.6 Datos + Imagenes redimensionadas"
   ]
  },
  {
   "cell_type": "markdown",
   "metadata": {},
   "source": [
    "Como prueba se entrenarán algoritmos usando tanto las imágenes como los datos"
   ]
  },
  {
   "cell_type": "code",
   "execution_count": 19,
   "metadata": {
    "collapsed": false
   },
   "outputs": [
    {
     "name": "stdout",
     "output_type": "stream",
     "text": [
      "(990, 192) (990, 90000) (990, 90192)\n"
     ]
    }
   ],
   "source": [
    "data_resize = np.concatenate((data_X_train,resize_img), axis = 1)\n",
    "print(data_X_train.shape, np.array(resize_img).shape, data_resize.shape)"
   ]
  },
  {
   "cell_type": "markdown",
   "metadata": {},
   "source": [
    "Tambien se combinaran las componentes PCA"
   ]
  },
  {
   "cell_type": "code",
   "execution_count": 20,
   "metadata": {
    "collapsed": true
   },
   "outputs": [],
   "source": [
    "Xp_data_img = np.concatenate((Xp,Xp_img),axis = 1)"
   ]
  },
  {
   "cell_type": "markdown",
   "metadata": {},
   "source": [
    "# 5. Entrenamiento de Algoritmos"
   ]
  },
  {
   "cell_type": "markdown",
   "metadata": {},
   "source": [
    "En esta sección se entrenarán y probarán varios algoritmos de clasificación, el entrenamiento se probara tanto con los datos, las imágenes, los descriptores, componentes y combinaciones de los mismos. Luego se usarán el algoritmo y combinación de datos que mejor score presente para realizar una submission. "
   ]
  },
  {
   "cell_type": "markdown",
   "metadata": {},
   "source": [
    "## 5.1 [GaussianNB](http://scikit-learn.org/stable/modules/generated/sklearn.naive_bayes.GaussianNB.html)"
   ]
  },
  {
   "cell_type": "code",
   "execution_count": 21,
   "metadata": {
    "collapsed": true
   },
   "outputs": [],
   "source": [
    "gaussian_model = GaussianNB()"
   ]
  },
  {
   "cell_type": "code",
   "execution_count": 28,
   "metadata": {
    "collapsed": false
   },
   "outputs": [
    {
     "name": "stdout",
     "output_type": "stream",
     "text": [
      "Score Datos =================================>  0.550505050505\n",
      "Score Imagenes Redimesionadas: ==============>  0.367676767677\n",
      "Score Datos e Imágenes: =====================>  0.367676767677\n",
      "Score PCA Datos: ============================>  0.90101010101\n",
      "Score PCA Imágenes: =========================>  0.551515151515\n",
      "Score PCA Datos e Imágenes: =================>  0.937373737374\n"
     ]
    }
   ],
   "source": [
    "# Datos\n",
    "score_data_g = np.mean(cross_val_score(gaussian_model, data_X_train, data_y_train, cv=5))\n",
    "print(\"Score Datos =================================> \", score_data_g)\n",
    "\n",
    "# Imagenes redimensionadas\n",
    "score_resize_g = np.mean(cross_val_score(gaussian_model, resize_img,data_y_train, cv=5))\n",
    "print(\"Score Imagenes Redimesionadas: ==============> \", score_resize_g)\n",
    "\n",
    "# Datos e Imágenes redimensionadas\n",
    "score_data_resize_g = np.mean(cross_val_score(gaussian_model, data_resize,data_y_train, cv=5))\n",
    "print(\"Score Datos e Imágenes: =====================> \", score_data_resize_g)\n",
    "\n",
    "# PCA de Datos\n",
    "score_data_pca_g = np.mean(cross_val_score(gaussian_model, Xp,data_y_train, cv=5))\n",
    "print(\"Score PCA Datos: ============================> \", score_data_pca_g)\n",
    "\n",
    "# PCA de Imágenes\n",
    "score_img_pca_g = np.mean(cross_val_score(gaussian_model, Xp_img,data_y_train, cv=5))\n",
    "print(\"Score PCA Imágenes: =========================> \", score_img_pca_g)\n",
    "\n",
    "# PCA Datos e Imágenes\n",
    "score_pca_data_img_g = np.mean(cross_val_score(gaussian_model, Xp_data_img,data_y_train, cv=5))\n",
    "print(\"Score PCA Datos e Imágenes: =================> \", score_pca_data_img_g)"
   ]
  },
  {
   "cell_type": "code",
   "execution_count": 22,
   "metadata": {
    "collapsed": true
   },
   "outputs": [],
   "source": [
    "digits = load_digits()\n",
    "cv = ShuffleSplit(n_splits=100, test_size=0.2, random_state=0)\n",
    "y_lim = (0, 1.01)"
   ]
  },
  {
   "cell_type": "code",
   "execution_count": null,
   "metadata": {
    "collapsed": false,
    "scrolled": true
   },
   "outputs": [],
   "source": [
    "title = \"Learning Curves (GaussianNB - Datos)\"\n",
    "X, y = data_X_train, data_y_train\n",
    "estimator = gaussian_model\n",
    "plot_datos = plot_learning_curve(estimator, title, X, y, ylim=y_lim, cv=cv, n_jobs=4)\n",
    "plt.subplot(1,2,1)\n",
    "\n",
    "\n",
    "title = \"Learning Curves (GaussianNB - PCA Datos)\"\n",
    "X, y = Xp, data_y_train\n",
    "estimator = gaussian_model\n",
    "plot_imagenes = plot_learning_curve(estimator, title, X, y, ylim=y_lim, cv=cv, n_jobs=4)\n",
    "plt.subplot(1,2,2)"
   ]
  },
  {
   "cell_type": "code",
   "execution_count": 24,
   "metadata": {
    "collapsed": false
   },
   "outputs": [
    {
     "data": {
      "image/png": "[encoded data removed]",
      "text/plain": [
       "<matplotlib.figure.Figure at 0x19076628da0>"
      ]
     },
     "metadata": {},
     "output_type": "display_data"
    }
   ],
   "source": []
  },
  {
   "cell_type": "code",
   "execution_count": 25,
   "metadata": {
    "collapsed": false
   },
   "outputs": [
    {
     "data": {
      "image/png": "[encoded data removed]",
      "text/plain": [
       "<matplotlib.figure.Figure at 0x1900055d6a0>"
      ]
     },
     "metadata": {},
     "output_type": "display_data"
    }
   ],
   "source": [
    "title = \"Learning Curves (GaussianNB - PCA Imagenes)\"\n",
    "X, y = Xp_img, data_y_train\n",
    "estimator = gaussian_model\n",
    "plot_imagenes = plot_learning_curve(estimator, title, X, y, ylim=y_lim, cv=cv, n_jobs=4)"
   ]
  },
  {
   "cell_type": "code",
   "execution_count": 26,
   "metadata": {
    "collapsed": false
   },
   "outputs": [
    {
     "data": {
      "image/png": "[encoded data removed]",
      "text/plain": [
       "<matplotlib.figure.Figure at 0x19000551668>"
      ]
     },
     "metadata": {},
     "output_type": "display_data"
    }
   ],
   "source": [
    "title = \"Learning Curves (GaussianNB - PCA Datos e Imaegnes)\"\n",
    "X, y = Xp_data_img, data_y_train\n",
    "estimator = gaussian_model\n",
    "plot_imagenes = plot_learning_curve(estimator, title, X, y, ylim=y_lim, cv=cv, n_jobs=4)"
   ]
  },
  {
   "cell_type": "markdown",
   "metadata": {},
   "source": [
    "## 5.2 [SVC](http://scikit-learn.org/stable/modules/generated/sklearn.svm.SVC.html)"
   ]
  },
  {
   "cell_type": "code",
   "execution_count": null,
   "metadata": {
    "collapsed": true
   },
   "outputs": [],
   "source": [
    "svc_model = SVC()"
   ]
  },
  {
   "cell_type": "code",
   "execution_count": null,
   "metadata": {
    "collapsed": false
   },
   "outputs": [
    {
     "name": "stdout",
     "output_type": "stream",
     "text": [
      "Score Datos =================================>  0.79696969697\n"
     ]
    }
   ],
   "source": [
    "# Datos\n",
    "score_data_svc = np.mean(cross_val_score(svc_model, data_X_train, data_y_train, cv=5))\n",
    "print(\"Score Datos =================================> \", score_data_svc)\n",
    "\n",
    "# Imágenes\n",
    "score_resize_svc = np.mean(cross_val_score(svc_model, resize_img,data_y_train, cv=5))\n",
    "print(\"Score Imágenes redimensionadas ==============> \", score_resize_svc)\n",
    "\n",
    "# Datos e Imágenes\n",
    "score_data_resize_svc = np.mean(cross_val_score(svc_model, data_resize,data_y_train, cv=5))\n",
    "print(\"Score Datos e Imágenes: =====================> \", score_data_resize_svc)\n",
    "\n",
    "# PCA Datos\n",
    "score_data_pca_svc = np.mean(cross_val_score(svc_model, Xp,data_y_train, cv=5))\n",
    "print(\"Score PCA Datos: ============================> \", score_data_pca_svc)\n",
    "\n",
    "#PCA Imágenes\n",
    "score_img_pca_svc = np.mean(cross_val_score(svc_model, Xp_img,data_y_train, cv=5))\n",
    "print(\"Score PCA Imágenes: =========================> \", score_img_pca_svc)\n",
    "\n",
    "#PCA Datos e Imágenes\n",
    "score_pca_data_img_svc = np.mean(cross_val_score(svc_model, Xp_data_img,data_y_train, cv=5))\n",
    "print(\"Score PCA Datos e Imágenes: =================> \", score_pca_data_img_svc)"
   ]
  },
  {
   "cell_type": "markdown",
   "metadata": {},
   "source": [
    "## 5.3 [KNeighborsClassifier](http://scikit-learn.org/stable/modules/generated/sklearn.neighbors.KNeighborsClassifier.html)"
   ]
  },
  {
   "cell_type": "code",
   "execution_count": null,
   "metadata": {
    "collapsed": true
   },
   "outputs": [],
   "source": [
    "knc_model_5 = KNeighborsClassifier(5)"
   ]
  },
  {
   "cell_type": "code",
   "execution_count": null,
   "metadata": {
    "collapsed": false
   },
   "outputs": [],
   "source": [
    "# Datos\n",
    "score_data_knc_5 = np.mean(cross_val_score(knc_model_5, data_X_train, data_y_train, cv=5))\n",
    "print(\"Score Datos =================================> \", score_data_knc)\n",
    "\n",
    "# Imágenes \n",
    "score_resize_knc_5 = np.mean(cross_val_score(knc_model_5, resize_img,data_y_train, cv=5))\n",
    "print(\"Score Imágenes redimensionadas ==============> \", score_resize_knc)\n",
    "\n",
    "# Datos e Imágenes\n",
    "score_data_resize_knc_5 = np.mean(cross_val_score(knc_model_5, data_resize,data_y_train, cv=5))\n",
    "print(\"Score Datos e Imágenes: =====================> \", score_data_resize_knc)\n",
    "\n",
    "# PCA Datos\n",
    "score_data_pca_knc_5 = np.mean(cross_val_score(knc_model_5, Xp,data_y_train, cv=5))\n",
    "print(\"Score PCA Datos: ============================> \", score_data_pca_knc)\n",
    "\n",
    "# PCA Imágenes\n",
    "score_img_pca_knc_5 = np.mean(cross_val_score(knc_model_5, Xp_img,data_y_train, cv=5))\n",
    "print(\"Score PCA Imágenes: =========================> \", score_img_pca_knc)\n",
    "\n",
    "# PCA Datos e Imágenes\n",
    "score_pca_data_img_knc_5 = np.mean(cross_val_score(knc_model_5, Xp_data_img,data_y_train, cv=5))\n",
    "print(\"Score PCA Datos e Imágenes: =================> \", score_pca_data_img_knc)"
   ]
  },
  {
   "cell_type": "code",
   "execution_count": null,
   "metadata": {
    "collapsed": true
   },
   "outputs": [],
   "source": [
    "knc_model_10 = KNeighborsClassifier(10)"
   ]
  },
  {
   "cell_type": "code",
   "execution_count": null,
   "metadata": {
    "collapsed": true
   },
   "outputs": [],
   "source": [
    "# Datos\n",
    "score_data_knc_10 = np.mean(cross_val_score(knc_model_10, data_X_train, data_y_train, cv=5))\n",
    "print(\"Score Datos =================================> \", score_data_knc)\n",
    "\n",
    "# Imágenes \n",
    "score_resize_knc_10 = np.mean(cross_val_score(knc_model_10, resize_img,data_y_train, cv=5))\n",
    "print(\"Score Imágenes redimensionadas ==============> \", score_resize_knc)\n",
    "\n",
    "# Datos e Imágenes\n",
    "score_data_resize_knc_10 = np.mean(cross_val_score(knc_model_10, data_resize,data_y_train, cv=5))\n",
    "print(\"Score Datos e Imágenes: =====================> \", score_data_resize_knc)\n",
    "\n",
    "# PCA Datos\n",
    "score_data_pca_knc_10 = np.mean(cross_val_score(knc_model_10, Xp,data_y_train, cv=5))\n",
    "print(\"Score PCA Datos: ============================> \", score_data_pca_knc)\n",
    "\n",
    "# PCA Imágenes\n",
    "score_img_pca_knc_10 = np.mean(cross_val_score(knc_model_10, Xp_img,data_y_train, cv=5))\n",
    "print(\"Score PCA Imágenes: =========================> \", score_img_pca_knc)\n",
    "\n",
    "# PCA Datos e Imágenes\n",
    "score_pca_data_img_knc_10 = np.mean(cross_val_score(knc_model_10, Xp_data_img,data_y_train, cv=5))\n",
    "print(\"Score PCA Datos e Imágenes: =================> \", score_pca_data_img_knc)"
   ]
  },
  {
   "cell_type": "markdown",
   "metadata": {},
   "source": [
    "## 5.4 [DecisionTreeClassifier()](http://scikit-learn.org/stable/modules/generated/sklearn.tree.DecisionTreeClassifier.html)"
   ]
  },
  {
   "cell_type": "code",
   "execution_count": null,
   "metadata": {
    "collapsed": true
   },
   "outputs": [],
   "source": [
    "dtc_model = DecisionTreeClassifier()"
   ]
  },
  {
   "cell_type": "code",
   "execution_count": 130,
   "metadata": {
    "collapsed": false
   },
   "outputs": [
    {
     "name": "stdout",
     "output_type": "stream",
     "text": [
      "score:  0.694949494949\n"
     ]
    }
   ],
   "source": [
    "# Datos\n",
    "score_data_dtc = np.mean(cross_val_score(dtc_model, data_X_train, data_y_train, cv=5))\n",
    "print(\"Score Datos =================================> \", score_data_dtc)\n",
    "\n",
    "# Imágenes\n",
    "score_resize_dtc = np.mean(cross_val_score(dtc_model, resize_img,data_y_train, cv=5))\n",
    "print(\"Score Imágenes redimensionadas ==============> \", score_resize_dtc)\n",
    "\n",
    "# Datos e Imágenes\n",
    "score_data_resize_dtc = np.mean(cross_val_score(dtc_model, data_resize,data_y_train, cv=5))\n",
    "print(\"Score Datos e Imágenes: =====================> \", score_data_resize_dtc)\n",
    "\n",
    "# PCA Datos\n",
    "score_data_pca_dtc = np.mean(cross_val_score(dtc_model, Xp,data_y_train, cv=5))\n",
    "print(\"Score PCA Datos: ============================> \", score_data_pca_dtc)\n",
    "\n",
    "# PCA Imágenes\n",
    "score_img_pca_dtc = np.mean(cross_val_score(dtc_model, Xp_img,data_y_train, cv=5))\n",
    "print(\"Score PCA Imágenes: =========================> \", score_img_pca_dtc)\n",
    "\n",
    "# PCA Datos e Imágenes\n",
    "score_pca_data_img_dtc = np.mean(cross_val_score(dtc_model, Xp_data_img,data_y_train, cv=5))\n",
    "print(\"Score PCA Datos e Imágenes: =================> \", score_pca_data_img_dtc)"
   ]
  },
  {
   "cell_type": "markdown",
   "metadata": {},
   "source": [
    "## 5.5 [LinearDiscriminantAnalysis](http://scikit-learn.org/stable/modules/generated/sklearn.discriminant_analysis.LinearDiscriminantAnalysis.html)"
   ]
  },
  {
   "cell_type": "markdown",
   "metadata": {},
   "source": [
    "### 5.5.1 Datos"
   ]
  },
  {
   "cell_type": "code",
   "execution_count": 148,
   "metadata": {
    "collapsed": false
   },
   "outputs": [
    {
     "name": "stdout",
     "output_type": "stream",
     "text": [
      "score:  0.974747474747\n"
     ]
    },
    {
     "name": "stderr",
     "output_type": "stream",
     "text": [
      "C:\\Program Files\\Anaconda3\\lib\\site-packages\\sklearn\\discriminant_analysis.py:453: UserWarning: The priors do not sum to 1. Renormalizing\n",
      "  UserWarning)\n",
      "C:\\Program Files\\Anaconda3\\lib\\site-packages\\sklearn\\discriminant_analysis.py:387: UserWarning: Variables are collinear.\n",
      "  warnings.warn(\"Variables are collinear.\")\n",
      "C:\\Program Files\\Anaconda3\\lib\\site-packages\\sklearn\\discriminant_analysis.py:453: UserWarning: The priors do not sum to 1. Renormalizing\n",
      "  UserWarning)\n",
      "C:\\Program Files\\Anaconda3\\lib\\site-packages\\sklearn\\discriminant_analysis.py:387: UserWarning: Variables are collinear.\n",
      "  warnings.warn(\"Variables are collinear.\")\n",
      "C:\\Program Files\\Anaconda3\\lib\\site-packages\\sklearn\\discriminant_analysis.py:453: UserWarning: The priors do not sum to 1. Renormalizing\n",
      "  UserWarning)\n",
      "C:\\Program Files\\Anaconda3\\lib\\site-packages\\sklearn\\discriminant_analysis.py:387: UserWarning: Variables are collinear.\n",
      "  warnings.warn(\"Variables are collinear.\")\n",
      "C:\\Program Files\\Anaconda3\\lib\\site-packages\\sklearn\\discriminant_analysis.py:453: UserWarning: The priors do not sum to 1. Renormalizing\n",
      "  UserWarning)\n",
      "C:\\Program Files\\Anaconda3\\lib\\site-packages\\sklearn\\discriminant_analysis.py:387: UserWarning: Variables are collinear.\n",
      "  warnings.warn(\"Variables are collinear.\")\n",
      "C:\\Program Files\\Anaconda3\\lib\\site-packages\\sklearn\\discriminant_analysis.py:453: UserWarning: The priors do not sum to 1. Renormalizing\n",
      "  UserWarning)\n",
      "C:\\Program Files\\Anaconda3\\lib\\site-packages\\sklearn\\discriminant_analysis.py:387: UserWarning: Variables are collinear.\n",
      "  warnings.warn(\"Variables are collinear.\")\n"
     ]
    }
   ],
   "source": [
    "score_data_lda = np.mean(cross_validation.cross_val_score(LinearDiscriminantAnalysis(), data_X_train, data_y_train, cv=5))\n",
    "print(\"score: \", score_data_lda)"
   ]
  },
  {
   "cell_type": "markdown",
   "metadata": {},
   "source": [
    "### 5.5.2 Imagenes redimensionadas"
   ]
  },
  {
   "cell_type": "code",
   "execution_count": 149,
   "metadata": {
    "collapsed": false
   },
   "outputs": [
    {
     "name": "stderr",
     "output_type": "stream",
     "text": [
      "C:\\Program Files\\Anaconda3\\lib\\site-packages\\sklearn\\discriminant_analysis.py:453: UserWarning: The priors do not sum to 1. Renormalizing\n",
      "  UserWarning)\n",
      "C:\\Program Files\\Anaconda3\\lib\\site-packages\\sklearn\\discriminant_analysis.py:387: UserWarning: Variables are collinear.\n",
      "  warnings.warn(\"Variables are collinear.\")\n",
      "C:\\Program Files\\Anaconda3\\lib\\site-packages\\sklearn\\discriminant_analysis.py:453: UserWarning: The priors do not sum to 1. Renormalizing\n",
      "  UserWarning)\n",
      "C:\\Program Files\\Anaconda3\\lib\\site-packages\\sklearn\\discriminant_analysis.py:387: UserWarning: Variables are collinear.\n",
      "  warnings.warn(\"Variables are collinear.\")\n",
      "C:\\Program Files\\Anaconda3\\lib\\site-packages\\sklearn\\discriminant_analysis.py:453: UserWarning: The priors do not sum to 1. Renormalizing\n",
      "  UserWarning)\n",
      "C:\\Program Files\\Anaconda3\\lib\\site-packages\\sklearn\\discriminant_analysis.py:387: UserWarning: Variables are collinear.\n",
      "  warnings.warn(\"Variables are collinear.\")\n",
      "C:\\Program Files\\Anaconda3\\lib\\site-packages\\sklearn\\discriminant_analysis.py:453: UserWarning: The priors do not sum to 1. Renormalizing\n",
      "  UserWarning)\n",
      "C:\\Program Files\\Anaconda3\\lib\\site-packages\\sklearn\\discriminant_analysis.py:387: UserWarning: Variables are collinear.\n",
      "  warnings.warn(\"Variables are collinear.\")\n",
      "C:\\Program Files\\Anaconda3\\lib\\site-packages\\sklearn\\discriminant_analysis.py:453: UserWarning: The priors do not sum to 1. Renormalizing\n",
      "  UserWarning)\n",
      "C:\\Program Files\\Anaconda3\\lib\\site-packages\\sklearn\\discriminant_analysis.py:387: UserWarning: Variables are collinear.\n",
      "  warnings.warn(\"Variables are collinear.\")\n"
     ]
    },
    {
     "name": "stdout",
     "output_type": "stream",
     "text": [
      "score:  0.388888888889\n"
     ]
    }
   ],
   "source": [
    "score_resize_lda = np.mean(cross_validation.cross_val_score(LinearDiscriminantAnalysis(), resize_img,data_y_train, cv=5))\n",
    "print(\"score: \", score_resize_lda)"
   ]
  },
  {
   "cell_type": "markdown",
   "metadata": {},
   "source": [
    "### 5.5.3 Datos + Imagenes redimensionadas"
   ]
  },
  {
   "cell_type": "code",
   "execution_count": 150,
   "metadata": {
    "collapsed": false
   },
   "outputs": [
    {
     "name": "stderr",
     "output_type": "stream",
     "text": [
      "C:\\Program Files\\Anaconda3\\lib\\site-packages\\sklearn\\discriminant_analysis.py:453: UserWarning: The priors do not sum to 1. Renormalizing\n",
      "  UserWarning)\n",
      "C:\\Program Files\\Anaconda3\\lib\\site-packages\\sklearn\\discriminant_analysis.py:387: UserWarning: Variables are collinear.\n",
      "  warnings.warn(\"Variables are collinear.\")\n",
      "C:\\Program Files\\Anaconda3\\lib\\site-packages\\sklearn\\discriminant_analysis.py:453: UserWarning: The priors do not sum to 1. Renormalizing\n",
      "  UserWarning)\n",
      "C:\\Program Files\\Anaconda3\\lib\\site-packages\\sklearn\\discriminant_analysis.py:387: UserWarning: Variables are collinear.\n",
      "  warnings.warn(\"Variables are collinear.\")\n",
      "C:\\Program Files\\Anaconda3\\lib\\site-packages\\sklearn\\discriminant_analysis.py:453: UserWarning: The priors do not sum to 1. Renormalizing\n",
      "  UserWarning)\n",
      "C:\\Program Files\\Anaconda3\\lib\\site-packages\\sklearn\\discriminant_analysis.py:387: UserWarning: Variables are collinear.\n",
      "  warnings.warn(\"Variables are collinear.\")\n",
      "C:\\Program Files\\Anaconda3\\lib\\site-packages\\sklearn\\discriminant_analysis.py:453: UserWarning: The priors do not sum to 1. Renormalizing\n",
      "  UserWarning)\n",
      "C:\\Program Files\\Anaconda3\\lib\\site-packages\\sklearn\\discriminant_analysis.py:387: UserWarning: Variables are collinear.\n",
      "  warnings.warn(\"Variables are collinear.\")\n",
      "C:\\Program Files\\Anaconda3\\lib\\site-packages\\sklearn\\discriminant_analysis.py:453: UserWarning: The priors do not sum to 1. Renormalizing\n",
      "  UserWarning)\n",
      "C:\\Program Files\\Anaconda3\\lib\\site-packages\\sklearn\\discriminant_analysis.py:387: UserWarning: Variables are collinear.\n",
      "  warnings.warn(\"Variables are collinear.\")\n"
     ]
    },
    {
     "name": "stdout",
     "output_type": "stream",
     "text": [
      "score:  0.484848484848\n"
     ]
    }
   ],
   "source": [
    "score_data_resize_lda = np.mean(cross_validation.cross_val_score(LinearDiscriminantAnalysis(), data_resize,data_y_train, cv=5))\n",
    "print(\"score: \", score_data_resize_lda)"
   ]
  },
  {
   "cell_type": "markdown",
   "metadata": {},
   "source": [
    "### 5.5.4 PCA Datos"
   ]
  },
  {
   "cell_type": "code",
   "execution_count": 151,
   "metadata": {
    "collapsed": false
   },
   "outputs": [
    {
     "name": "stderr",
     "output_type": "stream",
     "text": [
      "C:\\Program Files\\Anaconda3\\lib\\site-packages\\sklearn\\discriminant_analysis.py:453: UserWarning: The priors do not sum to 1. Renormalizing\n",
      "  UserWarning)\n",
      "C:\\Program Files\\Anaconda3\\lib\\site-packages\\sklearn\\discriminant_analysis.py:453: UserWarning: The priors do not sum to 1. Renormalizing\n",
      "  UserWarning)\n"
     ]
    },
    {
     "name": "stdout",
     "output_type": "stream",
     "text": [
      "score:  0.964646464646\n"
     ]
    },
    {
     "name": "stderr",
     "output_type": "stream",
     "text": [
      "C:\\Program Files\\Anaconda3\\lib\\site-packages\\sklearn\\discriminant_analysis.py:453: UserWarning: The priors do not sum to 1. Renormalizing\n",
      "  UserWarning)\n",
      "C:\\Program Files\\Anaconda3\\lib\\site-packages\\sklearn\\discriminant_analysis.py:453: UserWarning: The priors do not sum to 1. Renormalizing\n",
      "  UserWarning)\n",
      "C:\\Program Files\\Anaconda3\\lib\\site-packages\\sklearn\\discriminant_analysis.py:453: UserWarning: The priors do not sum to 1. Renormalizing\n",
      "  UserWarning)\n"
     ]
    }
   ],
   "source": [
    "score_data_pca_lda = np.mean(cross_validation.cross_val_score(LinearDiscriminantAnalysis(), Xp,data_y_train, cv=5))\n",
    "print(\"score: \", score_data_pca_lda)"
   ]
  },
  {
   "cell_type": "markdown",
   "metadata": {},
   "source": [
    "### 5.5.5 PCA Imagenes"
   ]
  },
  {
   "cell_type": "code",
   "execution_count": 152,
   "metadata": {
    "collapsed": false
   },
   "outputs": [
    {
     "name": "stdout",
     "output_type": "stream",
     "text": [
      "score:  0.606060606061\n"
     ]
    },
    {
     "name": "stderr",
     "output_type": "stream",
     "text": [
      "C:\\Program Files\\Anaconda3\\lib\\site-packages\\sklearn\\discriminant_analysis.py:453: UserWarning: The priors do not sum to 1. Renormalizing\n",
      "  UserWarning)\n",
      "C:\\Program Files\\Anaconda3\\lib\\site-packages\\sklearn\\discriminant_analysis.py:453: UserWarning: The priors do not sum to 1. Renormalizing\n",
      "  UserWarning)\n",
      "C:\\Program Files\\Anaconda3\\lib\\site-packages\\sklearn\\discriminant_analysis.py:453: UserWarning: The priors do not sum to 1. Renormalizing\n",
      "  UserWarning)\n",
      "C:\\Program Files\\Anaconda3\\lib\\site-packages\\sklearn\\discriminant_analysis.py:453: UserWarning: The priors do not sum to 1. Renormalizing\n",
      "  UserWarning)\n",
      "C:\\Program Files\\Anaconda3\\lib\\site-packages\\sklearn\\discriminant_analysis.py:453: UserWarning: The priors do not sum to 1. Renormalizing\n",
      "  UserWarning)\n"
     ]
    }
   ],
   "source": [
    "score_img_pca_lda = np.mean(cross_validation.cross_val_score(LinearDiscriminantAnalysis(), Xp_img,data_y_train, cv=5))\n",
    "print(\"score: \", score_img_pca_lda)"
   ]
  },
  {
   "cell_type": "markdown",
   "metadata": {},
   "source": [
    "### 5.5.6 PCA Datos + Imagenes"
   ]
  },
  {
   "cell_type": "code",
   "execution_count": 153,
   "metadata": {
    "collapsed": false
   },
   "outputs": [
    {
     "name": "stderr",
     "output_type": "stream",
     "text": [
      "C:\\Program Files\\Anaconda3\\lib\\site-packages\\sklearn\\discriminant_analysis.py:453: UserWarning: The priors do not sum to 1. Renormalizing\n",
      "  UserWarning)\n",
      "C:\\Program Files\\Anaconda3\\lib\\site-packages\\sklearn\\discriminant_analysis.py:453: UserWarning: The priors do not sum to 1. Renormalizing\n",
      "  UserWarning)\n",
      "C:\\Program Files\\Anaconda3\\lib\\site-packages\\sklearn\\discriminant_analysis.py:453: UserWarning: The priors do not sum to 1. Renormalizing\n",
      "  UserWarning)\n",
      "C:\\Program Files\\Anaconda3\\lib\\site-packages\\sklearn\\discriminant_analysis.py:453: UserWarning: The priors do not sum to 1. Renormalizing\n",
      "  UserWarning)\n",
      "C:\\Program Files\\Anaconda3\\lib\\site-packages\\sklearn\\discriminant_analysis.py:453: UserWarning: The priors do not sum to 1. Renormalizing\n",
      "  UserWarning)\n"
     ]
    },
    {
     "name": "stdout",
     "output_type": "stream",
     "text": [
      "score:  0.979797979798\n"
     ]
    }
   ],
   "source": [
    "score_pca_data_img_lda = np.mean(cross_validation.cross_val_score(LinearDiscriminantAnalysis(), Xp_data_img,data_y_train, cv=5))\n",
    "print(\"score: \", score_pca_data_img_lda)"
   ]
  },
  {
   "cell_type": "markdown",
   "metadata": {},
   "source": [
    "# 6. Tabla comparativa"
   ]
  },
  {
   "cell_type": "code",
   "execution_count": 162,
   "metadata": {
    "collapsed": false
   },
   "outputs": [],
   "source": [
    "modelos = ['GaussianNB', 'SVC', 'KNeighborsClassifier','DecisionTreeClassifier','LinearDiscriminantAnalysis']\n",
    "scores = [\"Datos\", \"Imágenes redimensionadas\", \"Datos + Imágenes redimensionadas\",\"PCA Datos\", \"PCA Imagenes\", \"PCA Datos + PCA Iamgenes\"]\n",
    "\n",
    "scores_g = [score_data_g, score_resize_g, score_data_resize_g, score_data_pca_g, score_img_pca_g, score_pca_data_img_g]\n",
    "scores_svc = [score_data_svc, score_resize_svc, score_data_resize_svc, score_data_pca_svc, score_img_pca_svc, score_pca_data_img_svc]\n",
    "scores_knc =  [score_data_knc, score_resize_knc, score_data_resize_knc, score_data_pca_knc, score_img_pca_knc, score_pca_data_img_knc]\n",
    "scores_dtc =  [score_data_dtc, score_resize_dtc, score_data_resize_dtc, score_data_pca_dtc, score_img_pca_dtc, score_pca_data_img_dtc]\n",
    "scores_lda = [score_data_lda, score_resize_lda, score_data_resize_lda, score_data_pca_lda, score_img_pca_lda, score_pca_data_img_lda]\n",
    "\n",
    "dict_pandas = {'GaussianNB': scores_g, 'SVC': scores_svc, 'KNeighborsClassifier': scores_knc, 'DecisionTreeClassifier': scores_dtc, 'LinearDiscriminantAnalysis': scores_lda}\n",
    "\n",
    "comparacion = pd.DataFrame(dict_pandas, columns=modelos, index= scores)"
   ]
  },
  {
   "cell_type": "code",
   "execution_count": 163,
   "metadata": {
    "collapsed": false
   },
   "outputs": [
    {
     "data": {
      "text/html": [
       "<div>\n",
       "<table border=\"1\" class=\"dataframe\">\n",
       "  <thead>\n",
       "    <tr style=\"text-align: right;\">\n",
       "      <th></th>\n",
       "      <th>GaussianNB</th>\n",
       "      <th>SVC</th>\n",
       "      <th>KNeighborsClassifier</th>\n",
       "      <th>DecisionTreeClassifier</th>\n",
       "      <th>LinearDiscriminantAnalysis</th>\n",
       "    </tr>\n",
       "  </thead>\n",
       "  <tbody>\n",
       "    <tr>\n",
       "      <th>Datos</th>\n",
       "      <td>0.550505</td>\n",
       "      <td>0.796970</td>\n",
       "      <td>0.862626</td>\n",
       "      <td>0.694949</td>\n",
       "      <td>0.974747</td>\n",
       "    </tr>\n",
       "    <tr>\n",
       "      <th>Imágenes redimensionadas</th>\n",
       "      <td>0.367677</td>\n",
       "      <td>0.506061</td>\n",
       "      <td>0.475758</td>\n",
       "      <td>0.275758</td>\n",
       "      <td>0.388889</td>\n",
       "    </tr>\n",
       "    <tr>\n",
       "      <th>Datos + Imágenes redimensionadas</th>\n",
       "      <td>0.367677</td>\n",
       "      <td>0.506061</td>\n",
       "      <td>0.476768</td>\n",
       "      <td>0.648485</td>\n",
       "      <td>0.484848</td>\n",
       "    </tr>\n",
       "    <tr>\n",
       "      <th>PCA Datos</th>\n",
       "      <td>0.896970</td>\n",
       "      <td>0.791919</td>\n",
       "      <td>0.857576</td>\n",
       "      <td>0.539394</td>\n",
       "      <td>0.964646</td>\n",
       "    </tr>\n",
       "    <tr>\n",
       "      <th>PCA Imagenes</th>\n",
       "      <td>0.552525</td>\n",
       "      <td>0.242424</td>\n",
       "      <td>0.521212</td>\n",
       "      <td>0.293939</td>\n",
       "      <td>0.606061</td>\n",
       "    </tr>\n",
       "    <tr>\n",
       "      <th>PCA Datos + PCA Iamgenes</th>\n",
       "      <td>0.942424</td>\n",
       "      <td>0.285859</td>\n",
       "      <td>0.521212</td>\n",
       "      <td>0.528283</td>\n",
       "      <td>0.979798</td>\n",
       "    </tr>\n",
       "  </tbody>\n",
       "</table>\n",
       "</div>"
      ],
      "text/plain": [
       "                                  GaussianNB       SVC  KNeighborsClassifier  \\\n",
       "Datos                               0.550505  0.796970              0.862626   \n",
       "Imágenes redimensionadas            0.367677  0.506061              0.475758   \n",
       "Datos + Imágenes redimensionadas    0.367677  0.506061              0.476768   \n",
       "PCA Datos                           0.896970  0.791919              0.857576   \n",
       "PCA Imagenes                        0.552525  0.242424              0.521212   \n",
       "PCA Datos + PCA Iamgenes            0.942424  0.285859              0.521212   \n",
       "\n",
       "                                  DecisionTreeClassifier  \\\n",
       "Datos                                           0.694949   \n",
       "Imágenes redimensionadas                        0.275758   \n",
       "Datos + Imágenes redimensionadas                0.648485   \n",
       "PCA Datos                                       0.539394   \n",
       "PCA Imagenes                                    0.293939   \n",
       "PCA Datos + PCA Iamgenes                        0.528283   \n",
       "\n",
       "                                  LinearDiscriminantAnalysis  \n",
       "Datos                                               0.974747  \n",
       "Imágenes redimensionadas                            0.388889  \n",
       "Datos + Imágenes redimensionadas                    0.484848  \n",
       "PCA Datos                                           0.964646  \n",
       "PCA Imagenes                                        0.606061  \n",
       "PCA Datos + PCA Iamgenes                            0.979798  "
      ]
     },
     "execution_count": 163,
     "metadata": {},
     "output_type": "execute_result"
    }
   ],
   "source": [
    "comparacion"
   ]
  },
  {
   "cell_type": "code",
   "execution_count": 166,
   "metadata": {
    "collapsed": false
   },
   "outputs": [
    {
     "data": {
      "text/plain": [
       "GaussianNB                    0.942424\n",
       "SVC                           0.796970\n",
       "KNeighborsClassifier          0.862626\n",
       "DecisionTreeClassifier        0.694949\n",
       "LinearDiscriminantAnalysis    0.979798\n",
       "dtype: float64"
      ]
     },
     "execution_count": 166,
     "metadata": {},
     "output_type": "execute_result"
    }
   ],
   "source": [
    "comparacion.max()"
   ]
  },
  {
   "cell_type": "code",
   "execution_count": 167,
   "metadata": {
    "collapsed": false
   },
   "outputs": [
    {
     "data": {
      "text/plain": [
       "0.97979797979797989"
      ]
     },
     "execution_count": 167,
     "metadata": {},
     "output_type": "execute_result"
    }
   ],
   "source": [
    "comparacion.max().max()"
   ]
  },
  {
   "cell_type": "markdown",
   "metadata": {},
   "source": [
    "Se puede observar que el mayor score se obtuvo entrenando un LinearDiscriminantAnalysis con los PCA de los datos y las imagenes"
   ]
  },
  {
   "cell_type": "code",
   "execution_count": null,
   "metadata": {
    "collapsed": true
   },
   "outputs": [],
   "source": []
  }
 ],
 "metadata": {
  "anaconda-cloud": {},
  "kernelspec": {
   "display_name": "Python [conda root]",
   "language": "python",
   "name": "conda-root-py"
  },
  "language_info": {
   "codemirror_mode": {
    "name": "ipython",
    "version": 3
   },
   "file_extension": ".py",
   "mimetype": "text/x-python",
   "name": "python",
   "nbconvert_exporter": "python",
   "pygments_lexer": "ipython3",
   "version": "3.5.2"
  }
 },
 "nbformat": 4,
 "nbformat_minor": 0
}
